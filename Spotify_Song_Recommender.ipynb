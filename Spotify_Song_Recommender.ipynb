{
 "cells": [
  {
   "cell_type": "code",
   "execution_count": 1,
   "id": "4a86c9e3",
   "metadata": {},
   "outputs": [],
   "source": [
    "### SONG RECOMMENDER"
   ]
  },
  {
   "cell_type": "code",
   "execution_count": 2,
   "id": "8ed7a963",
   "metadata": {},
   "outputs": [],
   "source": [
    "import pickle\n",
    "import config\n",
    "import pandas as pd\n",
    "import numpy as np\n",
    "from time import sleep\n",
    "import random\n",
    "from sklearn import datasets # sklearn comes with some toy datasets to practise\n",
    "from sklearn.preprocessing import StandardScaler\n",
    "from sklearn.cluster import KMeans\n",
    "from matplotlib import pyplot\n",
    "from sklearn.metrics import silhouette_score\n",
    "import seaborn as sns # Import seaborn\n",
    "import spotipy\n",
    "import json\n",
    "from spotipy.oauth2 import SpotifyClientCredentials\n"
   ]
  },
  {
   "cell_type": "code",
   "execution_count": 3,
   "id": "b3bdb89c",
   "metadata": {},
   "outputs": [],
   "source": [
    "#Initialize SpotiPy with user credentias\n",
    "sp = spotipy.Spotify(auth_manager=SpotifyClientCredentials(client_id= config.client_id,\n",
    "                                                           client_secret= config.client_secret))\n"
   ]
  },
  {
   "cell_type": "code",
   "execution_count": 4,
   "id": "d53fe41a",
   "metadata": {},
   "outputs": [],
   "source": [
    "#import csv file \n",
    "myspotify_df = pd.read_csv('myspotify_playlist.csv')"
   ]
  },
  {
   "cell_type": "code",
   "execution_count": 5,
   "id": "1b86f10c",
   "metadata": {},
   "outputs": [],
   "source": [
    "#dropped the unamed column and the song duration column\n",
    "myspotify_df = myspotify_df.drop(['key','Unnamed: 0','duration_ms', 'mode', 'instrumentalness', 'tempo', 'liveness'], axis=1)\n",
    "\n",
    "# ['danceability','energy','loudness','speechiness','acousticness','valence]"
   ]
  },
  {
   "cell_type": "code",
   "execution_count": 6,
   "id": "4a04a714",
   "metadata": {},
   "outputs": [],
   "source": [
    "#create a series for my id\n",
    "song_id = myspotify_df['id']"
   ]
  },
  {
   "cell_type": "code",
   "execution_count": 7,
   "id": "21143937",
   "metadata": {},
   "outputs": [],
   "source": [
    "#set the column ID as my new index\n",
    "myspotify_df = myspotify_df.set_index('id')"
   ]
  },
  {
   "cell_type": "code",
   "execution_count": 8,
   "id": "ae52ee63",
   "metadata": {},
   "outputs": [],
   "source": [
    "#check for duplicates\n",
    "myspotify_df = myspotify_df.drop_duplicates()"
   ]
  },
  {
   "cell_type": "code",
   "execution_count": 9,
   "id": "e1e8a5d1",
   "metadata": {},
   "outputs": [
    {
     "data": {
      "text/plain": [
       "danceability    0\n",
       "energy          0\n",
       "loudness        0\n",
       "speechiness     0\n",
       "acousticness    0\n",
       "valence         0\n",
       "dtype: int64"
      ]
     },
     "execution_count": 9,
     "metadata": {},
     "output_type": "execute_result"
    }
   ],
   "source": [
    "#check for null values\n",
    "myspotify_df.isnull().sum()"
   ]
  },
  {
   "cell_type": "markdown",
   "id": "4d037eb8",
   "metadata": {},
   "source": [
    "#### Scaling the features"
   ]
  },
  {
   "cell_type": "code",
   "execution_count": 10,
   "id": "bde26127",
   "metadata": {},
   "outputs": [
    {
     "data": {
      "text/html": [
       "<div>\n",
       "<style scoped>\n",
       "    .dataframe tbody tr th:only-of-type {\n",
       "        vertical-align: middle;\n",
       "    }\n",
       "\n",
       "    .dataframe tbody tr th {\n",
       "        vertical-align: top;\n",
       "    }\n",
       "\n",
       "    .dataframe thead th {\n",
       "        text-align: right;\n",
       "    }\n",
       "</style>\n",
       "<table border=\"1\" class=\"dataframe\">\n",
       "  <thead>\n",
       "    <tr style=\"text-align: right;\">\n",
       "      <th></th>\n",
       "      <th>danceability</th>\n",
       "      <th>energy</th>\n",
       "      <th>loudness</th>\n",
       "      <th>speechiness</th>\n",
       "      <th>acousticness</th>\n",
       "      <th>valence</th>\n",
       "    </tr>\n",
       "  </thead>\n",
       "  <tbody>\n",
       "    <tr>\n",
       "      <th>count</th>\n",
       "      <td>14889.000000</td>\n",
       "      <td>14889.000000</td>\n",
       "      <td>14889.000000</td>\n",
       "      <td>14889.000000</td>\n",
       "      <td>14889.000000</td>\n",
       "      <td>14889.000000</td>\n",
       "    </tr>\n",
       "    <tr>\n",
       "      <th>mean</th>\n",
       "      <td>0.607313</td>\n",
       "      <td>0.688169</td>\n",
       "      <td>-7.143616</td>\n",
       "      <td>0.087801</td>\n",
       "      <td>0.205094</td>\n",
       "      <td>0.514611</td>\n",
       "    </tr>\n",
       "    <tr>\n",
       "      <th>std</th>\n",
       "      <td>0.163424</td>\n",
       "      <td>0.215816</td>\n",
       "      <td>4.060628</td>\n",
       "      <td>0.087100</td>\n",
       "      <td>0.272028</td>\n",
       "      <td>0.244858</td>\n",
       "    </tr>\n",
       "    <tr>\n",
       "      <th>min</th>\n",
       "      <td>0.065900</td>\n",
       "      <td>0.000707</td>\n",
       "      <td>-43.657000</td>\n",
       "      <td>0.022200</td>\n",
       "      <td>0.000001</td>\n",
       "      <td>0.026200</td>\n",
       "    </tr>\n",
       "    <tr>\n",
       "      <th>25%</th>\n",
       "      <td>0.500000</td>\n",
       "      <td>0.567000</td>\n",
       "      <td>-8.498000</td>\n",
       "      <td>0.037100</td>\n",
       "      <td>0.009670</td>\n",
       "      <td>0.327000</td>\n",
       "    </tr>\n",
       "    <tr>\n",
       "      <th>50%</th>\n",
       "      <td>0.619000</td>\n",
       "      <td>0.730000</td>\n",
       "      <td>-6.197000</td>\n",
       "      <td>0.052700</td>\n",
       "      <td>0.073200</td>\n",
       "      <td>0.515000</td>\n",
       "    </tr>\n",
       "    <tr>\n",
       "      <th>75%</th>\n",
       "      <td>0.727000</td>\n",
       "      <td>0.857000</td>\n",
       "      <td>-4.630000</td>\n",
       "      <td>0.096000</td>\n",
       "      <td>0.299000</td>\n",
       "      <td>0.710000</td>\n",
       "    </tr>\n",
       "    <tr>\n",
       "      <th>max</th>\n",
       "      <td>0.980000</td>\n",
       "      <td>0.999000</td>\n",
       "      <td>0.839000</td>\n",
       "      <td>0.940000</td>\n",
       "      <td>0.996000</td>\n",
       "      <td>0.997000</td>\n",
       "    </tr>\n",
       "  </tbody>\n",
       "</table>\n",
       "</div>"
      ],
      "text/plain": [
       "       danceability        energy      loudness   speechiness  acousticness  \\\n",
       "count  14889.000000  14889.000000  14889.000000  14889.000000  14889.000000   \n",
       "mean       0.607313      0.688169     -7.143616      0.087801      0.205094   \n",
       "std        0.163424      0.215816      4.060628      0.087100      0.272028   \n",
       "min        0.065900      0.000707    -43.657000      0.022200      0.000001   \n",
       "25%        0.500000      0.567000     -8.498000      0.037100      0.009670   \n",
       "50%        0.619000      0.730000     -6.197000      0.052700      0.073200   \n",
       "75%        0.727000      0.857000     -4.630000      0.096000      0.299000   \n",
       "max        0.980000      0.999000      0.839000      0.940000      0.996000   \n",
       "\n",
       "            valence  \n",
       "count  14889.000000  \n",
       "mean       0.514611  \n",
       "std        0.244858  \n",
       "min        0.026200  \n",
       "25%        0.327000  \n",
       "50%        0.515000  \n",
       "75%        0.710000  \n",
       "max        0.997000  "
      ]
     },
     "execution_count": 10,
     "metadata": {},
     "output_type": "execute_result"
    }
   ],
   "source": [
    "#describe the features\n",
    "myspotify_df.describe()"
   ]
  },
  {
   "cell_type": "code",
   "execution_count": 11,
   "id": "13d09f57",
   "metadata": {},
   "outputs": [],
   "source": [
    "#using the standard scaler function\n",
    "scaler = StandardScaler()\n",
    "\n",
    "#fit the model to get the mean\n",
    "scaler.fit(myspotify_df)\n",
    "\n",
    "#transform the model\n",
    "myspotify_df_scaled = scaler.transform(myspotify_df)\n",
    "\n",
    "#scaler = StandardScaler()\n",
    "#model = KMeans()\n",
    "\n",
    "with open(\"Data/scaler.pickle\", \"wb\") as f:\n",
    "    pickle.dump(scaler,f)\n",
    "    \n",
    "def load(filename = \"filename.pickle\"): \n",
    "    try: \n",
    "        with open(filename, \"rb\") as f: \n",
    "            return pickle.load(f) \n",
    "\n",
    "    except FileNotFoundError: \n",
    "        print(\"File not found!\") "
   ]
  },
  {
   "cell_type": "code",
   "execution_count": 12,
   "id": "86257842",
   "metadata": {},
   "outputs": [],
   "source": [
    "#putting the numpy array into a dataframe \n",
    "myspotify_df_scaled_df = pd.DataFrame(myspotify_df_scaled, columns = myspotify_df.columns)"
   ]
  },
  {
   "cell_type": "code",
   "execution_count": 13,
   "id": "fa3e66fb",
   "metadata": {},
   "outputs": [],
   "source": [
    "#renaming my data frame \n",
    "music_df = myspotify_df_scaled_df"
   ]
  },
  {
   "cell_type": "code",
   "execution_count": 14,
   "id": "5bbeae2e",
   "metadata": {},
   "outputs": [
    {
     "data": {
      "text/html": [
       "<div>\n",
       "<style scoped>\n",
       "    .dataframe tbody tr th:only-of-type {\n",
       "        vertical-align: middle;\n",
       "    }\n",
       "\n",
       "    .dataframe tbody tr th {\n",
       "        vertical-align: top;\n",
       "    }\n",
       "\n",
       "    .dataframe thead th {\n",
       "        text-align: right;\n",
       "    }\n",
       "</style>\n",
       "<table border=\"1\" class=\"dataframe\">\n",
       "  <thead>\n",
       "    <tr style=\"text-align: right;\">\n",
       "      <th></th>\n",
       "      <th>danceability</th>\n",
       "      <th>energy</th>\n",
       "      <th>loudness</th>\n",
       "      <th>speechiness</th>\n",
       "      <th>acousticness</th>\n",
       "      <th>valence</th>\n",
       "    </tr>\n",
       "  </thead>\n",
       "  <tbody>\n",
       "    <tr>\n",
       "      <th>count</th>\n",
       "      <td>1.488900e+04</td>\n",
       "      <td>1.488900e+04</td>\n",
       "      <td>1.488900e+04</td>\n",
       "      <td>1.488900e+04</td>\n",
       "      <td>1.488900e+04</td>\n",
       "      <td>1.488900e+04</td>\n",
       "    </tr>\n",
       "    <tr>\n",
       "      <th>mean</th>\n",
       "      <td>-2.537541e-16</td>\n",
       "      <td>-4.202465e-16</td>\n",
       "      <td>8.631837e-17</td>\n",
       "      <td>-7.776464e-17</td>\n",
       "      <td>6.033487e-16</td>\n",
       "      <td>1.666863e-16</td>\n",
       "    </tr>\n",
       "    <tr>\n",
       "      <th>std</th>\n",
       "      <td>1.000034e+00</td>\n",
       "      <td>1.000034e+00</td>\n",
       "      <td>1.000034e+00</td>\n",
       "      <td>1.000034e+00</td>\n",
       "      <td>1.000034e+00</td>\n",
       "      <td>1.000034e+00</td>\n",
       "    </tr>\n",
       "    <tr>\n",
       "      <th>min</th>\n",
       "      <td>-3.313053e+00</td>\n",
       "      <td>-3.185511e+00</td>\n",
       "      <td>-8.992355e+00</td>\n",
       "      <td>-7.531987e-01</td>\n",
       "      <td>-7.539642e-01</td>\n",
       "      <td>-1.994740e+00</td>\n",
       "    </tr>\n",
       "    <tr>\n",
       "      <th>25%</th>\n",
       "      <td>-6.566766e-01</td>\n",
       "      <td>-5.614628e-01</td>\n",
       "      <td>-3.335518e-01</td>\n",
       "      <td>-5.821253e-01</td>\n",
       "      <td>-7.184205e-01</td>\n",
       "      <td>-7.662292e-01</td>\n",
       "    </tr>\n",
       "    <tr>\n",
       "      <th>50%</th>\n",
       "      <td>7.151673e-02</td>\n",
       "      <td>1.938350e-01</td>\n",
       "      <td>2.331283e-01</td>\n",
       "      <td>-4.030149e-01</td>\n",
       "      <td>-4.848706e-01</td>\n",
       "      <td>1.589851e-03</td>\n",
       "    </tr>\n",
       "    <tr>\n",
       "      <th>75%</th>\n",
       "      <td>7.323981e-01</td>\n",
       "      <td>7.823185e-01</td>\n",
       "      <td>6.190422e-01</td>\n",
       "      <td>9.413136e-02</td>\n",
       "      <td>3.452185e-01</td>\n",
       "      <td>7.979979e-01</td>\n",
       "    </tr>\n",
       "    <tr>\n",
       "      <th>max</th>\n",
       "      <td>2.280574e+00</td>\n",
       "      <td>1.440308e+00</td>\n",
       "      <td>1.965923e+00</td>\n",
       "      <td>9.784465e+00</td>\n",
       "      <td>2.907540e+00</td>\n",
       "      <td>1.970147e+00</td>\n",
       "    </tr>\n",
       "  </tbody>\n",
       "</table>\n",
       "</div>"
      ],
      "text/plain": [
       "       danceability        energy      loudness   speechiness  acousticness  \\\n",
       "count  1.488900e+04  1.488900e+04  1.488900e+04  1.488900e+04  1.488900e+04   \n",
       "mean  -2.537541e-16 -4.202465e-16  8.631837e-17 -7.776464e-17  6.033487e-16   \n",
       "std    1.000034e+00  1.000034e+00  1.000034e+00  1.000034e+00  1.000034e+00   \n",
       "min   -3.313053e+00 -3.185511e+00 -8.992355e+00 -7.531987e-01 -7.539642e-01   \n",
       "25%   -6.566766e-01 -5.614628e-01 -3.335518e-01 -5.821253e-01 -7.184205e-01   \n",
       "50%    7.151673e-02  1.938350e-01  2.331283e-01 -4.030149e-01 -4.848706e-01   \n",
       "75%    7.323981e-01  7.823185e-01  6.190422e-01  9.413136e-02  3.452185e-01   \n",
       "max    2.280574e+00  1.440308e+00  1.965923e+00  9.784465e+00  2.907540e+00   \n",
       "\n",
       "            valence  \n",
       "count  1.488900e+04  \n",
       "mean   1.666863e-16  \n",
       "std    1.000034e+00  \n",
       "min   -1.994740e+00  \n",
       "25%   -7.662292e-01  \n",
       "50%    1.589851e-03  \n",
       "75%    7.979979e-01  \n",
       "max    1.970147e+00  "
      ]
     },
     "execution_count": 14,
     "metadata": {},
     "output_type": "execute_result"
    }
   ],
   "source": [
    "#describe my transformed dataframe\n",
    "music_df.describe()"
   ]
  },
  {
   "cell_type": "code",
   "execution_count": 15,
   "id": "c225cd03",
   "metadata": {},
   "outputs": [
    {
     "name": "stderr",
     "output_type": "stream",
     "text": [
      "/Users/chuks/opt/anaconda3/lib/python3.9/site-packages/seaborn/distributions.py:2619: FutureWarning: `distplot` is a deprecated function and will be removed in a future version. Please adapt your code to use either `displot` (a figure-level function with similar flexibility) or `histplot` (an axes-level function for histograms).\n",
      "  warnings.warn(msg, FutureWarning)\n"
     ]
    },
    {
     "data": {
      "text/plain": [
       "<AxesSubplot:ylabel='Density'>"
      ]
     },
     "execution_count": 15,
     "metadata": {},
     "output_type": "execute_result"
    },
    {
     "data": {
      "image/png": "[encoded data removed]",
      "text/plain": [
       "<Figure size 432x288 with 1 Axes>"
      ]
     },
     "metadata": {
      "needs_background": "light"
     },
     "output_type": "display_data"
    }
   ],
   "source": [
    "sns.distplot(music_df)"
   ]
  },
  {
   "cell_type": "markdown",
   "id": "b0bab2a0",
   "metadata": {},
   "source": [
    "### Choosing K"
   ]
  },
  {
   "cell_type": "code",
   "execution_count": 16,
   "id": "60c0c15d",
   "metadata": {},
   "outputs": [],
   "source": [
    "rand_state = 123"
   ]
  },
  {
   "cell_type": "code",
   "execution_count": 17,
   "id": "27d28eba",
   "metadata": {},
   "outputs": [
    {
     "name": "stdout",
     "output_type": "stream",
     "text": [
      "Training a K-Means model with 2 clusters! \n",
      "\n",
      "Training a K-Means model with 3 clusters! \n",
      "\n",
      "Training a K-Means model with 4 clusters! \n",
      "\n",
      "Training a K-Means model with 5 clusters! \n",
      "\n",
      "Training a K-Means model with 6 clusters! \n",
      "\n",
      "Training a K-Means model with 7 clusters! \n",
      "\n",
      "Training a K-Means model with 8 clusters! \n",
      "\n",
      "Training a K-Means model with 9 clusters! \n",
      "\n",
      "Training a K-Means model with 10 clusters! \n",
      "\n",
      "Training a K-Means model with 11 clusters! \n",
      "\n",
      "Training a K-Means model with 12 clusters! \n",
      "\n",
      "Training a K-Means model with 13 clusters! \n",
      "\n",
      "Training a K-Means model with 14 clusters! \n",
      "\n",
      "Training a K-Means model with 15 clusters! \n",
      "\n",
      "Training a K-Means model with 16 clusters! \n",
      "\n",
      "Training a K-Means model with 17 clusters! \n",
      "\n",
      "Training a K-Means model with 18 clusters! \n",
      "\n",
      "Training a K-Means model with 19 clusters! \n",
      "\n",
      "Training a K-Means model with 20 clusters! \n",
      "\n",
      "Training a K-Means model with 21 clusters! \n",
      "\n",
      "Training a K-Means model with 22 clusters! \n",
      "\n",
      "Training a K-Means model with 23 clusters! \n",
      "\n",
      "Training a K-Means model with 24 clusters! \n",
      "\n",
      "Training a K-Means model with 25 clusters! \n",
      "\n",
      "Training a K-Means model with 26 clusters! \n",
      "\n",
      "Training a K-Means model with 27 clusters! \n",
      "\n",
      "Training a K-Means model with 28 clusters! \n",
      "\n",
      "Training a K-Means model with 29 clusters! \n",
      "\n",
      "Training a K-Means model with 30 clusters! \n",
      "\n",
      "Training a K-Means model with 31 clusters! \n",
      "\n",
      "Training a K-Means model with 32 clusters! \n",
      "\n",
      "Training a K-Means model with 33 clusters! \n",
      "\n",
      "Training a K-Means model with 34 clusters! \n",
      "\n",
      "Training a K-Means model with 35 clusters! \n",
      "\n",
      "Training a K-Means model with 36 clusters! \n",
      "\n",
      "Training a K-Means model with 37 clusters! \n",
      "\n",
      "Training a K-Means model with 38 clusters! \n",
      "\n",
      "Training a K-Means model with 39 clusters! \n",
      "\n",
      "Training a K-Means model with 40 clusters! \n",
      "\n",
      "Training a K-Means model with 41 clusters! \n",
      "\n",
      "Training a K-Means model with 42 clusters! \n",
      "\n",
      "Training a K-Means model with 43 clusters! \n",
      "\n",
      "Training a K-Means model with 44 clusters! \n",
      "\n",
      "Training a K-Means model with 45 clusters! \n",
      "\n",
      "Training a K-Means model with 46 clusters! \n",
      "\n",
      "Training a K-Means model with 47 clusters! \n",
      "\n",
      "Training a K-Means model with 48 clusters! \n",
      "\n",
      "Training a K-Means model with 49 clusters! \n",
      "\n"
     ]
    },
    {
     "data": {
      "text/plain": [
       "Text(0.5, 1.0, 'Elbow Method showing the optimal k')"
      ]
     },
     "execution_count": 17,
     "metadata": {},
     "output_type": "execute_result"
    },
    {
     "data": {
      "image/png": "[encoded data removed]",
      "text/plain": [
       "<Figure size 1152x576 with 1 Axes>"
      ]
     },
     "metadata": {
      "needs_background": "light"
     },
     "output_type": "display_data"
    }
   ],
   "source": [
    "K = range(2, 50)\n",
    "inertia = []\n",
    "\n",
    "for k in K:\n",
    "    print(\"Training a K-Means model with {} clusters! \".format(k))\n",
    "    print()\n",
    "    kmeans = KMeans(n_clusters=k,\n",
    "                    random_state=rand_state)\n",
    "    kmeans.fit(music_df)\n",
    "    inertia.append(kmeans.inertia_)\n",
    "\n",
    "import numpy as np\n",
    "import matplotlib.pyplot as plt\n",
    "%matplotlib inline\n",
    "\n",
    "plt.figure(figsize=(16,8))\n",
    "plt.plot(K, inertia, 'bx-')\n",
    "plt.xlabel('k')\n",
    "plt.ylabel('inertia')\n",
    "plt.xticks(np.arange(min(K), max(K)+1, 1.0))\n",
    "plt.title('Elbow Method showing the optimal k')"
   ]
  },
  {
   "cell_type": "markdown",
   "id": "9d008407",
   "metadata": {},
   "source": [
    "### Silouhette"
   ]
  },
  {
   "cell_type": "code",
   "execution_count": 18,
   "id": "23653f2f",
   "metadata": {},
   "outputs": [
    {
     "data": {
      "text/plain": [
       "Text(0.5, 1.0, 'Silhouette Method showing the optimal k')"
      ]
     },
     "execution_count": 18,
     "metadata": {},
     "output_type": "execute_result"
    },
    {
     "data": {
      "image/png": "[encoded data removed]",
      "text/plain": [
       "<Figure size 1152x576 with 1 Axes>"
      ]
     },
     "metadata": {
      "needs_background": "light"
     },
     "output_type": "display_data"
    }
   ],
   "source": [
    "K = range(2, 50)\n",
    "silhouette = []\n",
    "\n",
    "for k in K:\n",
    "    kmeans = KMeans(n_clusters=k,\n",
    "                    random_state=123)\n",
    "    kmeans.fit(music_df)\n",
    "    \n",
    "    filename = \"kmeans_\" + str(k) + \".pickle\"\n",
    "    with open(filename, \"wb\") as f:\n",
    "        pickle.dump(kmeans,f)\n",
    "    \n",
    "    silhouette.append(silhouette_score(music_df, kmeans.predict(music_df)))\n",
    "\n",
    "\n",
    "plt.figure(figsize=(16,8))\n",
    "plt.plot(K, silhouette, 'bx-')\n",
    "plt.xlabel('k')\n",
    "plt.ylabel('silhouette score')\n",
    "plt.xticks(np.arange(min(K), max(K)+1, 1.0))\n",
    "plt.title('Silhouette Method showing the optimal k')"
   ]
  },
  {
   "cell_type": "markdown",
   "id": "dbbb37ac",
   "metadata": {},
   "source": [
    "### Clustering the audio features with Kmeans  "
   ]
  },
  {
   "cell_type": "code",
   "execution_count": 19,
   "id": "c9ae4a84",
   "metadata": {},
   "outputs": [
    {
     "data": {
      "text/plain": [
       "KMeans(n_clusters=20, random_state=123)"
      ]
     },
     "execution_count": 19,
     "metadata": {},
     "output_type": "execute_result"
    }
   ],
   "source": [
    "no_clust = 20\n",
    "\n",
    "kmeans = KMeans(n_clusters=no_clust, random_state=rand_state)\n",
    "kmeans.fit(music_df)"
   ]
  },
  {
   "cell_type": "code",
   "execution_count": 20,
   "id": "5eabe21b",
   "metadata": {},
   "outputs": [
    {
     "data": {
      "image/png": "[encoded data removed]",
      "text/plain": [
       "<Figure size 432x288 with 1 Axes>"
      ]
     },
     "metadata": {
      "needs_background": "light"
     },
     "output_type": "display_data"
    }
   ],
   "source": [
    "# assign a cluster to each example\n",
    "labels = kmeans.predict(music_df)\n",
    "# retrieve unique clusters\n",
    "clusters = np.unique(labels)\n",
    "# create scatter plot for samples from each cluster\n",
    "for cluster in clusters:\n",
    "    # get row indexes for samples with this cluster\n",
    "    row_ix = np.where(labels == cluster)\n",
    "    # create scatter of these samples\n",
    "    pyplot.scatter(myspotify_df.to_numpy()[row_ix, 1], myspotify_df.to_numpy()[row_ix, 3])\n",
    "    # show the plot\n",
    "pyplot.show()"
   ]
  },
  {
   "cell_type": "code",
   "execution_count": 21,
   "id": "1a43501f",
   "metadata": {},
   "outputs": [
    {
     "data": {
      "text/html": [
       "<div>\n",
       "<style scoped>\n",
       "    .dataframe tbody tr th:only-of-type {\n",
       "        vertical-align: middle;\n",
       "    }\n",
       "\n",
       "    .dataframe tbody tr th {\n",
       "        vertical-align: top;\n",
       "    }\n",
       "\n",
       "    .dataframe thead th {\n",
       "        text-align: right;\n",
       "    }\n",
       "</style>\n",
       "<table border=\"1\" class=\"dataframe\">\n",
       "  <thead>\n",
       "    <tr style=\"text-align: right;\">\n",
       "      <th></th>\n",
       "      <th>0</th>\n",
       "    </tr>\n",
       "  </thead>\n",
       "  <tbody>\n",
       "    <tr>\n",
       "      <th>0</th>\n",
       "      <td>1025</td>\n",
       "    </tr>\n",
       "    <tr>\n",
       "      <th>1</th>\n",
       "      <td>759</td>\n",
       "    </tr>\n",
       "    <tr>\n",
       "      <th>2</th>\n",
       "      <td>1320</td>\n",
       "    </tr>\n",
       "    <tr>\n",
       "      <th>3</th>\n",
       "      <td>1089</td>\n",
       "    </tr>\n",
       "    <tr>\n",
       "      <th>4</th>\n",
       "      <td>527</td>\n",
       "    </tr>\n",
       "    <tr>\n",
       "      <th>5</th>\n",
       "      <td>652</td>\n",
       "    </tr>\n",
       "    <tr>\n",
       "      <th>6</th>\n",
       "      <td>393</td>\n",
       "    </tr>\n",
       "    <tr>\n",
       "      <th>7</th>\n",
       "      <td>1443</td>\n",
       "    </tr>\n",
       "    <tr>\n",
       "      <th>8</th>\n",
       "      <td>419</td>\n",
       "    </tr>\n",
       "    <tr>\n",
       "      <th>9</th>\n",
       "      <td>795</td>\n",
       "    </tr>\n",
       "    <tr>\n",
       "      <th>10</th>\n",
       "      <td>603</td>\n",
       "    </tr>\n",
       "    <tr>\n",
       "      <th>11</th>\n",
       "      <td>1295</td>\n",
       "    </tr>\n",
       "    <tr>\n",
       "      <th>12</th>\n",
       "      <td>265</td>\n",
       "    </tr>\n",
       "    <tr>\n",
       "      <th>13</th>\n",
       "      <td>187</td>\n",
       "    </tr>\n",
       "    <tr>\n",
       "      <th>14</th>\n",
       "      <td>588</td>\n",
       "    </tr>\n",
       "    <tr>\n",
       "      <th>15</th>\n",
       "      <td>567</td>\n",
       "    </tr>\n",
       "    <tr>\n",
       "      <th>16</th>\n",
       "      <td>1133</td>\n",
       "    </tr>\n",
       "    <tr>\n",
       "      <th>17</th>\n",
       "      <td>554</td>\n",
       "    </tr>\n",
       "    <tr>\n",
       "      <th>18</th>\n",
       "      <td>510</td>\n",
       "    </tr>\n",
       "    <tr>\n",
       "      <th>19</th>\n",
       "      <td>765</td>\n",
       "    </tr>\n",
       "  </tbody>\n",
       "</table>\n",
       "</div>"
      ],
      "text/plain": [
       "       0\n",
       "0   1025\n",
       "1    759\n",
       "2   1320\n",
       "3   1089\n",
       "4    527\n",
       "5    652\n",
       "6    393\n",
       "7   1443\n",
       "8    419\n",
       "9    795\n",
       "10   603\n",
       "11  1295\n",
       "12   265\n",
       "13   187\n",
       "14   588\n",
       "15   567\n",
       "16  1133\n",
       "17   554\n",
       "18   510\n",
       "19   765"
      ]
     },
     "execution_count": 21,
     "metadata": {},
     "output_type": "execute_result"
    }
   ],
   "source": [
    "clusters = kmeans.predict(music_df)\n",
    "#clusters\n",
    "pd.Series(clusters).value_counts().to_frame().sort_index()"
   ]
  },
  {
   "cell_type": "code",
   "execution_count": 22,
   "id": "8f3957cb",
   "metadata": {},
   "outputs": [
    {
     "data": {
      "text/plain": [
       "array([7, 0, 3, ..., 7, 7, 7], dtype=int32)"
      ]
     },
     "execution_count": 22,
     "metadata": {},
     "output_type": "execute_result"
    }
   ],
   "source": [
    "clusters"
   ]
  },
  {
   "cell_type": "code",
   "execution_count": 23,
   "id": "f19512b3",
   "metadata": {},
   "outputs": [],
   "source": [
    "#myspotify_df = pd.DataFrame(X)\n",
    "music_df[\"cluster\"] = clusters"
   ]
  },
  {
   "cell_type": "code",
   "execution_count": 24,
   "id": "c437062c",
   "metadata": {},
   "outputs": [],
   "source": [
    "music_df.reset_index(inplace=True)\n",
    "music_df['id'] = song_id"
   ]
  },
  {
   "cell_type": "code",
   "execution_count": 25,
   "id": "8f5977c9",
   "metadata": {},
   "outputs": [
    {
     "data": {
      "text/html": [
       "\n",
       "        <iframe\n",
       "            width=\"320\"\n",
       "            height=\"80\"\n",
       "            src=\"https://open.spotify.com/embed/track/spotify:track:3hgl7EQwTutSm6PESsB7gZ?frameborder=0&allowtransparency=true&allow=encrypted-media\"\n",
       "            frameborder=\"0\"\n",
       "            allowfullscreen\n",
       "            \n",
       "        ></iframe>\n",
       "        "
      ],
      "text/plain": [
       "<IPython.lib.display.IFrame at 0x7fb43270bc40>"
      ]
     },
     "execution_count": 25,
     "metadata": {},
     "output_type": "execute_result"
    }
   ],
   "source": [
    "##Embed track player\n",
    "from IPython.display import IFrame\n",
    "\n",
    "#track_id = \"1rfORa9iYmocEsnnZGMVC4\"\n",
    "track_id= 'spotify:track:3hgl7EQwTutSm6PESsB7gZ'\n",
    "IFrame(src=\"https://open.spotify.com/embed/track/\"+track_id,\n",
    "       width=\"320\",\n",
    "       height=\"80\",\n",
    "       frameborder=\"0\",\n",
    "       allowtransparency=\"true\",\n",
    "       allow=\"encrypted-media\",\n",
    "      )"
   ]
  },
  {
   "cell_type": "code",
   "execution_count": 26,
   "id": "088fb70c",
   "metadata": {},
   "outputs": [],
   "source": [
    "def play_song(track_id):\n",
    "    return IFrame(src=\"https://open.spotify.com/embed/track/\"+track_id,\n",
    "       width=\"320\",\n",
    "       height=\"80\",\n",
    "       frameborder=\"0\",\n",
    "       allowtransparency=\"true\",\n",
    "       allow=\"encrypted-media\",\n",
    "      )"
   ]
  },
  {
   "cell_type": "code",
   "execution_count": 27,
   "id": "61a9f18f",
   "metadata": {},
   "outputs": [],
   "source": [
    "#find a similar song\n",
    "def find_match():\n",
    "        #asks user for an input\n",
    "        enter_music = input('Enter a song: ')\n",
    "        results = sp.search(q= enter_music,limit=5,market=\"GB\")\n",
    "        return results\n",
    "    \n",
    "    \n",
    "#     except ValueError:\n",
    "#         print(\"Sorry,no song chosen. retry\")  \n",
    "#         continue\n",
    "#     else: break\n",
    "        \n",
    "#     if isinstance(enter_music, str): \n",
    "#         results = sp.search(q= enter_music,limit=5,market=\"GB\")\n",
    "#         return results\n",
    "#     else: return 'No song in this market'\n",
    "    "
   ]
  },
  {
   "cell_type": "code",
   "execution_count": 28,
   "id": "6373cb42",
   "metadata": {},
   "outputs": [],
   "source": [
    "#get audio features of song\n",
    "def audio_feat(x):\n",
    "    return sp.audio_features(x)\n"
   ]
  },
  {
   "cell_type": "code",
   "execution_count": 29,
   "id": "c5111d19",
   "metadata": {},
   "outputs": [
    {
     "name": "stdout",
     "output_type": "stream",
     "text": [
      "Enter a song: despacito\n"
     ]
    }
   ],
   "source": [
    "#get song input from user\n",
    "match = find_match()\n"
   ]
  },
  {
   "cell_type": "code",
   "execution_count": 38,
   "id": "10ed4d53",
   "metadata": {},
   "outputs": [],
   "source": [
    "#get id from the inputed song\n",
    "track_id=match[\"tracks\"][\"items\"][0][\"id\"]"
   ]
  },
  {
   "cell_type": "code",
   "execution_count": 39,
   "id": "fc2e595d",
   "metadata": {},
   "outputs": [
    {
     "data": {
      "text/html": [
       "\n",
       "        <iframe\n",
       "            width=\"320\"\n",
       "            height=\"80\"\n",
       "            src=\"https://open.spotify.com/embed/track/6habFhsOp2NvshLv26DqMb?frameborder=0&allowtransparency=true&allow=encrypted-media\"\n",
       "            frameborder=\"0\"\n",
       "            allowfullscreen\n",
       "            \n",
       "        ></iframe>\n",
       "        "
      ],
      "text/plain": [
       "<IPython.lib.display.IFrame at 0x7fb43287de80>"
      ]
     },
     "execution_count": 39,
     "metadata": {},
     "output_type": "execute_result"
    }
   ],
   "source": [
    "#play song\n",
    "play_song(track_id)"
   ]
  },
  {
   "cell_type": "code",
   "execution_count": 40,
   "id": "60fd0f32",
   "metadata": {},
   "outputs": [],
   "source": [
    "#get the audio features of the song\n",
    "features = audio_feat(track_id)"
   ]
  },
  {
   "cell_type": "code",
   "execution_count": 41,
   "id": "ef142be9",
   "metadata": {},
   "outputs": [],
   "source": [
    "#create a dataframe for our selected track \n",
    "mytrack_df=pd.DataFrame(features)    \n",
    "# mytrack_df=mytrack_df[['danceability','energy','mode','loudness','speechiness','acousticness',\n",
    "#     'instrumentalness','liveness','valence', 'tempo']]\n",
    "mytrack_df=mytrack_df[['danceability','energy','loudness','speechiness','acousticness','valence']]"
   ]
  },
  {
   "cell_type": "code",
   "execution_count": 42,
   "id": "6e65278a",
   "metadata": {},
   "outputs": [],
   "source": [
    "#transform user track using the scaler function\n",
    "mytrack_df = scaler.transform(mytrack_df)"
   ]
  },
  {
   "cell_type": "code",
   "execution_count": 43,
   "id": "6cbbd025",
   "metadata": {},
   "outputs": [
    {
     "name": "stderr",
     "output_type": "stream",
     "text": [
      "/Users/chuks/opt/anaconda3/lib/python3.9/site-packages/sklearn/base.py:450: UserWarning: X does not have valid feature names, but KMeans was fitted with feature names\n",
      "  warnings.warn(\n"
     ]
    }
   ],
   "source": [
    "#using kmeans predict, predict the cluster of mytrack_df\n",
    "mytrack_df = kmeans.predict(mytrack_df)"
   ]
  },
  {
   "cell_type": "code",
   "execution_count": 44,
   "id": "bc7fad55",
   "metadata": {},
   "outputs": [],
   "source": [
    "def recommender():\n",
    "    rec_match = music_df.loc[music_df.cluster==mytrack_df[0]].sample()\n",
    "    rec_match_id = rec_match.iloc[0]['id']\n",
    "    return play_song(rec_match_id)"
   ]
  },
  {
   "cell_type": "code",
   "execution_count": 45,
   "id": "f490c3b4",
   "metadata": {},
   "outputs": [
    {
     "data": {
      "text/html": [
       "\n",
       "        <iframe\n",
       "            width=\"320\"\n",
       "            height=\"80\"\n",
       "            src=\"https://open.spotify.com/embed/track/2nGFzvICaeEWjIrBrL2RAx?frameborder=0&allowtransparency=true&allow=encrypted-media\"\n",
       "            frameborder=\"0\"\n",
       "            allowfullscreen\n",
       "            \n",
       "        ></iframe>\n",
       "        "
      ],
      "text/plain": [
       "<IPython.lib.display.IFrame at 0x7fb4328649d0>"
      ]
     },
     "execution_count": 45,
     "metadata": {},
     "output_type": "execute_result"
    }
   ],
   "source": [
    "recommender()"
   ]
  },
  {
   "cell_type": "code",
   "execution_count": null,
   "id": "a3a6b2c4",
   "metadata": {},
   "outputs": [],
   "source": []
  }
 ],
 "metadata": {
  "kernelspec": {
   "display_name": "Python 3 (ipykernel)",
   "language": "python",
   "name": "python3"
  },
  "language_info": {
   "codemirror_mode": {
    "name": "ipython",
    "version": 3
   },
   "file_extension": ".py",
   "mimetype": "text/x-python",
   "name": "python",
   "nbconvert_exporter": "python",
   "pygments_lexer": "ipython3",
   "version": "3.9.12"
  }
 },
 "nbformat": 4,
 "nbformat_minor": 5
}
