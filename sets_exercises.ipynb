{
 "cells": [
  {
   "cell_type": "code",
   "execution_count": 1,
   "id": "a4ef8c48",
   "metadata": {},
   "outputs": [],
   "source": [
    "# importing the random function \n",
    "import random"
   ]
  },
  {
   "cell_type": "code",
   "execution_count": null,
   "id": "acdc2c6d",
   "metadata": {},
   "outputs": [],
   "source": [
    "#creating and empty list called sample_list_1\n",
    "sample_list_1 = []"
   ]
  },
  {
   "cell_type": "code",
   "execution_count": 2,
   "id": "ef177bf7",
   "metadata": {},
   "outputs": [],
   "source": [
    "#creating a 100 random variables of range 0 to 100 and appending it to a list \n",
    "sample_list_1 = random.sample(range(0,100), 100)"
   ]
  },
  {
   "cell_type": "code",
   "execution_count": 3,
   "id": "965c1f8a",
   "metadata": {},
   "outputs": [],
   "source": [
    "#creating 80 random variables of range 0 to 100 and appending it to a list\n",
    "sample_list_1 = random.sample(range(0, 100), 80)"
   ]
  },
  {
   "cell_type": "code",
   "execution_count": 4,
   "id": "ec939a1f",
   "metadata": {},
   "outputs": [
    {
     "name": "stdout",
     "output_type": "stream",
     "text": [
      "[36, 3, 33, 31, 38, 69, 99, 85, 77, 73, 61, 72, 25, 70, 29, 75, 50, 34, 79, 14, 39, 19, 42, 98, 82, 9, 35, 57, 92, 86, 58, 59, 6, 60, 54, 24, 32, 52, 1, 55, 94, 74, 62, 71, 21, 0, 43, 30, 87, 17, 84, 83, 63, 41, 13, 88, 97, 8, 4, 12, 96, 44, 91, 28, 27, 23, 64, 7, 18, 90, 66, 76, 51, 78, 40, 80, 65, 93, 49, 26]\n"
     ]
    }
   ],
   "source": [
    "print(sample_list_1)"
   ]
  },
  {
   "cell_type": "code",
   "execution_count": 5,
   "id": "03ae70a2",
   "metadata": {},
   "outputs": [],
   "source": [
    "#converting the list sample list 1 to set 1\n",
    "set1 = set(sample_list_1)"
   ]
  },
  {
   "cell_type": "code",
   "execution_count": 6,
   "id": "7cc9eec2",
   "metadata": {},
   "outputs": [
    {
     "name": "stdout",
     "output_type": "stream",
     "text": [
      "{0, 1, 3, 4, 6, 7, 8, 9, 12, 13, 14, 17, 18, 19, 21, 23, 24, 25, 26, 27, 28, 29, 30, 31, 32, 33, 34, 35, 36, 38, 39, 40, 41, 42, 43, 44, 49, 50, 51, 52, 54, 55, 57, 58, 59, 60, 61, 62, 63, 64, 65, 66, 69, 70, 71, 72, 73, 74, 75, 76, 77, 78, 79, 80, 82, 83, 84, 85, 86, 87, 88, 90, 91, 92, 93, 94, 96, 97, 98, 99}\n"
     ]
    }
   ],
   "source": [
    "#printing the value of set 1\n",
    "print(set1)"
   ]
  },
  {
   "cell_type": "code",
   "execution_count": 7,
   "id": "0c26ddc7",
   "metadata": {},
   "outputs": [],
   "source": [
    "#creating an empty list sample list 2\n",
    "sample_list_2 = []"
   ]
  },
  {
   "cell_type": "code",
   "execution_count": 8,
   "id": "7ab29427",
   "metadata": {},
   "outputs": [],
   "source": [
    "#A for loop that returns only 80 elements between the range 0 to 100 \n",
    "#then append the result into the variable list sample list 2\n",
    "for i in range(80):\n",
    "    value = random.randint(0,100)\n",
    "    sample_list_2.append(value)"
   ]
  },
  {
   "cell_type": "code",
   "execution_count": 9,
   "id": "8c37d19c",
   "metadata": {},
   "outputs": [
    {
     "name": "stdout",
     "output_type": "stream",
     "text": [
      "[8, 16, 13, 21, 84, 83, 74, 96, 73, 51, 0, 59, 38, 89, 27, 48, 69, 0, 92, 91, 63, 9, 9, 68, 52, 93, 30, 75, 11, 21, 23, 32, 85, 32, 60, 51, 97, 20, 17, 29, 18, 58, 76, 25, 26, 38, 4, 91, 78, 16, 29, 19, 1, 26, 67, 92, 76, 32, 5, 8, 31, 14, 28, 95, 11, 42, 32, 45, 3, 78, 40, 14, 1, 37, 6, 31, 97, 5, 58, 0]\n"
     ]
    }
   ],
   "source": [
    "#printing the value of sample list 2\n",
    "print(sample_list_2)"
   ]
  },
  {
   "cell_type": "code",
   "execution_count": 12,
   "id": "290399a3",
   "metadata": {},
   "outputs": [],
   "source": [
    "#converting the sample list 2 to a set of items set 2\n",
    "set2 = set(sample_list_2)"
   ]
  },
  {
   "cell_type": "code",
   "execution_count": 13,
   "id": "36a3548a",
   "metadata": {},
   "outputs": [
    {
     "name": "stdout",
     "output_type": "stream",
     "text": [
      "56\n"
     ]
    }
   ],
   "source": [
    "#Printing out the length of the newly created set 2 \n",
    "#and there was a noticeable change in length\n",
    "print(len(set2))"
   ]
  },
  {
   "cell_type": "code",
   "execution_count": 14,
   "id": "b4e1dfa0",
   "metadata": {},
   "outputs": [],
   "source": [
    "#Difference between set 1 and set 2 and storing it in a new variable set 3\n",
    "set3 = set1 - set2"
   ]
  },
  {
   "cell_type": "code",
   "execution_count": 15,
   "id": "f832a8ec",
   "metadata": {},
   "outputs": [
    {
     "name": "stdout",
     "output_type": "stream",
     "text": [
      "{7, 12, 24, 33, 34, 35, 36, 39, 41, 43, 44, 49, 50, 54, 55, 57, 61, 62, 64, 65, 66, 70, 71, 72, 77, 79, 80, 82, 86, 87, 88, 90, 94, 98, 99}\n"
     ]
    }
   ],
   "source": [
    "print(set3)"
   ]
  },
  {
   "cell_type": "code",
   "execution_count": 16,
   "id": "4cf48fe1",
   "metadata": {},
   "outputs": [],
   "source": [
    "#Difference between set 2 and set 1 and storing it in a new variable set 4\n",
    "set4 = set2 - set1"
   ]
  },
  {
   "cell_type": "code",
   "execution_count": 17,
   "id": "d80f471c",
   "metadata": {},
   "outputs": [
    {
     "name": "stdout",
     "output_type": "stream",
     "text": [
      "{67, 68, 37, 5, 11, 45, 16, 48, 20, 89, 95}\n"
     ]
    }
   ],
   "source": [
    "print(set4)"
   ]
  },
  {
   "cell_type": "code",
   "execution_count": 18,
   "id": "75563151",
   "metadata": {},
   "outputs": [],
   "source": [
    "#Union between set 1 and set 2\n",
    "set5 = set1 & set2"
   ]
  },
  {
   "cell_type": "code",
   "execution_count": 20,
   "id": "d8148a7d",
   "metadata": {},
   "outputs": [
    {
     "name": "stdout",
     "output_type": "stream",
     "text": [
      "{0, 1, 3, 4, 6, 8, 9, 13, 14, 17, 18, 19, 21, 23, 25, 26, 27, 28, 29, 30, 31, 32, 38, 40, 42, 51, 52, 58, 59, 60, 63, 69, 73, 74, 75, 76, 78, 83, 84, 85, 91, 92, 93, 96, 97}\n"
     ]
    }
   ],
   "source": [
    "print(set5)"
   ]
  },
  {
   "cell_type": "code",
   "execution_count": null,
   "id": "0260c980",
   "metadata": {},
   "outputs": [],
   "source": [
    "#Checking for the relationships amongs the 5 sets\n",
    "def relate_sets(set1, set2, set3, set4, set5):\n",
    "    "
   ]
  },
  {
   "cell_type": "code",
   "execution_count": 21,
   "id": "3f7bfcaf",
   "metadata": {},
   "outputs": [],
   "source": [
    "#Create an empty set\n",
    "#Assign it to set6\n",
    "set6 = set()"
   ]
  },
  {
   "cell_type": "code",
   "execution_count": 24,
   "id": "bc658419",
   "metadata": {},
   "outputs": [],
   "source": [
    "#Update set 3 and set 5 to set 6\n",
    "set6 = set3.update(set5)"
   ]
  },
  {
   "cell_type": "code",
   "execution_count": 25,
   "id": "401bdf36",
   "metadata": {},
   "outputs": [
    {
     "name": "stdout",
     "output_type": "stream",
     "text": [
      "None\n"
     ]
    }
   ],
   "source": [
    "print(set6)"
   ]
  },
  {
   "cell_type": "code",
   "execution_count": 26,
   "id": "f36b2012",
   "metadata": {},
   "outputs": [
    {
     "data": {
      "text/plain": [
       "False"
      ]
     },
     "execution_count": 26,
     "metadata": {},
     "output_type": "execute_result"
    }
   ],
   "source": [
    "#Check if set 1 and set 6 are both equal\n",
    "set1 == set6"
   ]
  },
  {
   "cell_type": "code",
   "execution_count": 27,
   "id": "82f07b2b",
   "metadata": {},
   "outputs": [
    {
     "data": {
      "text/plain": [
       "False"
      ]
     },
     "execution_count": 27,
     "metadata": {},
     "output_type": "execute_result"
    }
   ],
   "source": [
    "#Check if set 1 is subset of set 2 using the method issubset()\n",
    "set1.issubset(set2)"
   ]
  },
  {
   "cell_type": "code",
   "execution_count": 28,
   "id": "996a5510",
   "metadata": {},
   "outputs": [
    {
     "data": {
      "text/plain": [
       "True"
      ]
     },
     "execution_count": 28,
     "metadata": {},
     "output_type": "execute_result"
    }
   ],
   "source": [
    "#Check if set 1 is a subset of set 3 using the issubset() method\n",
    "set1.issubset(set3)"
   ]
  },
  {
   "cell_type": "code",
   "execution_count": 30,
   "id": "c307be9b",
   "metadata": {},
   "outputs": [
    {
     "name": "stdout",
     "output_type": "stream",
     "text": [
      "{0, 1, 3, 4, 5, 6, 7, 8, 9, 11, 12, 13, 14, 16, 17, 18, 19, 20, 21, 23, 24, 25, 26, 27, 28, 29, 30, 31, 32, 33, 34, 35, 36, 37, 38, 39, 40, 41, 42, 43, 44, 45, 48, 49, 50, 51, 52, 54, 55, 57, 58, 59, 60, 61, 62, 63, 64, 65, 66, 67, 68, 69, 70, 71, 72, 73, 74, 75, 76, 77, 78, 79, 80, 82, 83, 84, 85, 86, 87, 88, 89, 90, 91, 92, 93, 94, 95, 96, 97, 98, 99}\n"
     ]
    }
   ],
   "source": [
    "#Check the union of set 3, 4, 5 using the union method\n",
    "print(set3.union(set4,set5))"
   ]
  },
  {
   "cell_type": "code",
   "execution_count": 32,
   "id": "e1f96a09",
   "metadata": {},
   "outputs": [
    {
     "name": "stdout",
     "output_type": "stream",
     "text": [
      "{0, 1, 3, 4, 5, 6, 7, 8, 9, 11, 12, 13, 14, 16, 17, 18, 19, 20, 21, 23, 24, 25, 26, 27, 28, 29, 30, 31, 32, 33, 34, 35, 36, 37, 38, 39, 40, 41, 42, 43, 44, 45, 48, 49, 50, 51, 52, 54, 55, 57, 58, 59, 60, 61, 62, 63, 64, 65, 66, 67, 68, 69, 70, 71, 72, 73, 74, 75, 76, 77, 78, 79, 80, 82, 83, 84, 85, 86, 87, 88, 89, 90, 91, 92, 93, 94, 95, 96, 97, 98, 99}\n"
     ]
    }
   ],
   "source": [
    "#Aggregate or join set 1 and set 2 \n",
    "print(set1 | set2)"
   ]
  },
  {
   "cell_type": "code",
   "execution_count": 33,
   "id": "9f72695c",
   "metadata": {},
   "outputs": [
    {
     "data": {
      "text/plain": [
       "False"
      ]
     },
     "execution_count": 33,
     "metadata": {},
     "output_type": "execute_result"
    }
   ],
   "source": [
    "#Check if set 1 equals set 2\n",
    "set1 == set2"
   ]
  },
  {
   "cell_type": "code",
   "execution_count": 34,
   "id": "adc1d9ae",
   "metadata": {},
   "outputs": [
    {
     "data": {
      "text/plain": [
       "0"
      ]
     },
     "execution_count": 34,
     "metadata": {},
     "output_type": "execute_result"
    }
   ],
   "source": [
    "#remove a random element in  set 1\n",
    "set1.pop()"
   ]
  },
  {
   "cell_type": "code",
   "execution_count": 35,
   "id": "237bd591",
   "metadata": {},
   "outputs": [],
   "source": [
    "#remove a list of sets in set 1\n",
    "#list_to_remove = [1, 9, 11, 19, 21, 29, 31, 39, 41, 49, 51, 59, 61, 69, 71, 79, 81, 89, 91, 99]\n",
    "list_to_remove = [1, 9, 11, 19, 21, 29, 31, 39, 41, 49, 51, 59, 61, 69, 71, 79, 81, 89, 91, 99]\n",
    "set1.difference_update(list_to_remove)"
   ]
  },
  {
   "cell_type": "code",
   "execution_count": 36,
   "id": "9be24207",
   "metadata": {},
   "outputs": [
    {
     "name": "stdout",
     "output_type": "stream",
     "text": [
      "{3, 4, 6, 7, 8, 12, 13, 14, 17, 18, 23, 24, 25, 26, 27, 28, 30, 32, 33, 34, 35, 36, 38, 40, 42, 43, 44, 50, 52, 54, 55, 57, 58, 60, 62, 63, 64, 65, 66, 70, 72, 73, 74, 75, 76, 77, 78, 80, 82, 83, 84, 85, 86, 87, 88, 90, 92, 93, 94, 96, 97, 98}\n"
     ]
    }
   ],
   "source": [
    "print(set1)"
   ]
  },
  {
   "cell_type": "code",
   "execution_count": 37,
   "id": "212f6c5b",
   "metadata": {},
   "outputs": [
    {
     "data": {
      "text/plain": [
       "62"
      ]
     },
     "execution_count": 37,
     "metadata": {},
     "output_type": "execute_result"
    }
   ],
   "source": [
    "len(set1)"
   ]
  },
  {
   "cell_type": "code",
   "execution_count": null,
   "id": "e5e64470",
   "metadata": {},
   "outputs": [],
   "source": []
  }
 ],
 "metadata": {
  "kernelspec": {
   "display_name": "Python 3 (ipykernel)",
   "language": "python",
   "name": "python3"
  },
  "language_info": {
   "codemirror_mode": {
    "name": "ipython",
    "version": 3
   },
   "file_extension": ".py",
   "mimetype": "text/x-python",
   "name": "python",
   "nbconvert_exporter": "python",
   "pygments_lexer": "ipython3",
   "version": "3.9.12"
  }
 },
 "nbformat": 4,
 "nbformat_minor": 5
}
