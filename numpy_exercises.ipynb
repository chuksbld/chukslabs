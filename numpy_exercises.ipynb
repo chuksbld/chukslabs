{
 "cells": [
  {
   "cell_type": "markdown",
   "id": "40c871e8",
   "metadata": {},
   "source": [
    "#### 1. Import the numpy package under the name `np` (★☆☆)\n",
    "`hint: import … as`\n"
   ]
  },
  {
   "cell_type": "code",
   "execution_count": 2,
   "id": "6c33a837",
   "metadata": {},
   "outputs": [],
   "source": [
    "import numpy as np"
   ]
  },
  {
   "cell_type": "markdown",
   "id": "b191e398",
   "metadata": {},
   "source": [
    "#### 2. Create a null vector of size 10 (★☆☆)\n",
    "`hint: np.zeros`\n"
   ]
  },
  {
   "cell_type": "code",
   "execution_count": 3,
   "id": "a736a266",
   "metadata": {},
   "outputs": [
    {
     "name": "stdout",
     "output_type": "stream",
     "text": [
      "[0. 0. 0. 0. 0. 0. 0. 0. 0. 0.]\n"
     ]
    }
   ],
   "source": [
    "# \n",
    "null_vector = np.zeros(10)\n",
    "print(null_vector)"
   ]
  },
  {
   "cell_type": "markdown",
   "id": "b9e47195",
   "metadata": {},
   "source": [
    "#### 3. Create a null vector of size 10 but the fifth value which is 1 (★☆☆)\n",
    "`hint: array[4]`\n"
   ]
  },
  {
   "cell_type": "code",
   "execution_count": 4,
   "id": "812e3c82",
   "metadata": {},
   "outputs": [
    {
     "name": "stdout",
     "output_type": "stream",
     "text": [
      "[0. 0. 0. 0. 1. 0. 0. 0. 0. 0.]\n"
     ]
    }
   ],
   "source": [
    "null_vect = np.zeros(10)\n",
    "null_vect[4] = 1\n",
    "print(null_vect)"
   ]
  },
  {
   "cell_type": "markdown",
   "id": "726cf3e5",
   "metadata": {},
   "source": [
    "#### 4. Create a vector with values ranging from 10 to 49 (★☆☆)\n",
    "`hint: arange`\n"
   ]
  },
  {
   "cell_type": "code",
   "execution_count": 5,
   "id": "52311e85",
   "metadata": {},
   "outputs": [
    {
     "name": "stdout",
     "output_type": "stream",
     "text": [
      "[10 11 12 13 14 15 16 17 18 19 20 21 22 23 24 25 26 27 28 29 30 31 32 33\n",
      " 34 35 36 37 38 39 40 41 42 43 44 45 46 47 48 49]\n"
     ]
    }
   ],
   "source": [
    "vect = np.arange(10,50)\n",
    "print(vect)"
   ]
  },
  {
   "cell_type": "markdown",
   "id": "5d3bd071",
   "metadata": {},
   "source": [
    "#### 5. Create a 3x3 matrix with values ranging from 0 to 8 (★☆☆)\n",
    "`hint: reshape`"
   ]
  },
  {
   "cell_type": "code",
   "execution_count": 6,
   "id": "8d072f24",
   "metadata": {},
   "outputs": [
    {
     "name": "stdout",
     "output_type": "stream",
     "text": [
      "[[0 1 2]\n",
      " [3 4 5]\n",
      " [6 7 8]]\n"
     ]
    }
   ],
   "source": [
    "matrix = np.arange(0,9).reshape(3,3)\n",
    "print(matrix)"
   ]
  },
  {
   "cell_type": "markdown",
   "id": "8f89f566",
   "metadata": {},
   "source": [
    "#### 6. Find indices of non-zero elements from [1,2,0,0,4,0] (★☆☆)\n",
    "`hint: np.nonzero`"
   ]
  },
  {
   "cell_type": "code",
   "execution_count": 7,
   "id": "9c903bb9",
   "metadata": {},
   "outputs": [
    {
     "data": {
      "text/plain": [
       "(array([0, 1, 4]),)"
      ]
     },
     "execution_count": 7,
     "metadata": {},
     "output_type": "execute_result"
    }
   ],
   "source": [
    "non_zero = [1,2,0,0,4,0]\n",
    "np.nonzero(non_zero)"
   ]
  },
  {
   "cell_type": "markdown",
   "id": "d703201a",
   "metadata": {},
   "source": [
    "#### 7. Create a 3x3 identity matrix (★☆☆)\n",
    "`hint: np.eye`"
   ]
  },
  {
   "cell_type": "code",
   "execution_count": 8,
   "id": "abdbca14",
   "metadata": {},
   "outputs": [
    {
     "name": "stdout",
     "output_type": "stream",
     "text": [
      "[[1. 0. 0.]\n",
      " [0. 1. 0.]\n",
      " [0. 0. 1.]]\n"
     ]
    }
   ],
   "source": [
    "matrix1 = np.eye(3,3)\n",
    "print(matrix1)"
   ]
  },
  {
   "cell_type": "markdown",
   "id": "0e6860e5",
   "metadata": {},
   "source": [
    "#### 8. Create a 3x3x3 array with random values (★☆☆)\n",
    "`hint: np.random.random`"
   ]
  },
  {
   "cell_type": "code",
   "execution_count": 9,
   "id": "7aa8e04a",
   "metadata": {},
   "outputs": [
    {
     "name": "stdout",
     "output_type": "stream",
     "text": [
      "[[0.77132064 0.02075195 0.63364823]\n",
      " [0.74880388 0.49850701 0.22479665]\n",
      " [0.19806286 0.76053071 0.16911084]]\n"
     ]
    }
   ],
   "source": [
    "np.random.seed(10)\n",
    "rand_val = np.random.random((3,3))\n",
    "print(rand_val)\n",
    "\n"
   ]
  },
  {
   "cell_type": "markdown",
   "id": "d77605a1",
   "metadata": {},
   "source": [
    "#### 9. Create a 10x10 array with random values and find the minimum and maximum values (★☆☆)\n",
    "`hint: min, max`"
   ]
  },
  {
   "cell_type": "code",
   "execution_count": 38,
   "id": "42dfd47d",
   "metadata": {},
   "outputs": [
    {
     "name": "stdout",
     "output_type": "stream",
     "text": [
      "The minimum value is: 0.012780814590608647 \n",
      "\n",
      "The maximum value is: 0.9866733303584686 \n",
      "\n"
     ]
    }
   ],
   "source": [
    "np.random.seed(11)\n",
    "array_val = np.random.random((10,10))\n",
    "minimum_val = array_val.min()\n",
    "maximum_val = array_val.max()\n",
    "print('The minimum value is: {}'.format(minimum_val), \"\\n\")\n",
    "print('The maximum value is: {}'.format(maximum_val), \"\\n\")"
   ]
  },
  {
   "cell_type": "markdown",
   "id": "c59da2c2",
   "metadata": {},
   "source": [
    "#### 10. Create a random vector of size 30 and find the mean value (★☆☆)\n",
    "`hint: mean`"
   ]
  },
  {
   "cell_type": "code",
   "execution_count": 11,
   "id": "652b0ba1",
   "metadata": {},
   "outputs": [
    {
     "name": "stdout",
     "output_type": "stream",
     "text": [
      "[ 0  1  2  3  4  5  6  7  8  9 10 11 12 13 14 15 16 17 18 19 20 21 22 23\n",
      " 24 25 26 27 28 29 30] \n",
      "\n",
      "15.0\n"
     ]
    }
   ],
   "source": [
    "rand_vector = np.arange(31)\n",
    "print(rand_vector, \"\\n\")\n",
    "\n",
    "rand_vector_mean = np.mean(rand_vector)\n",
    "print(round(rand_vector_mean, 2))"
   ]
  },
  {
   "cell_type": "markdown",
   "id": "0c70aab9",
   "metadata": {},
   "source": [
    "#### 11. Create a 5x5 matrix with values 1,2,3,4 just below the diagonal (★☆☆)\n",
    "`hint: np.diag`"
   ]
  },
  {
   "cell_type": "code",
   "execution_count": 12,
   "id": "c58b6191",
   "metadata": {},
   "outputs": [
    {
     "name": "stdout",
     "output_type": "stream",
     "text": [
      "[[0 0 0 0 0]\n",
      " [0 1 0 0 0]\n",
      " [0 0 2 0 0]\n",
      " [0 0 0 3 0]\n",
      " [0 0 0 0 4]]\n"
     ]
    }
   ],
   "source": [
    "matrix5 = np.arange(5)#.reshape(5,5)\n",
    "matrix5\n",
    "new_matrix5 = np.diag(matrix5)\n",
    "print(new_matrix5)\n"
   ]
  },
  {
   "cell_type": "markdown",
   "id": "7e37391f",
   "metadata": {},
   "source": [
    "#### 12. Normalize a 5x5 random matrix (★☆☆)\n",
    "`hint: (x -mean)/std`"
   ]
  },
  {
   "cell_type": "code",
   "execution_count": 12,
   "id": "caeaf5c9",
   "metadata": {},
   "outputs": [
    {
     "name": "stdout",
     "output_type": "stream",
     "text": [
      "[[0.29787234 0.36170213 0.06382979 0.9787234  0.29787234]\n",
      " [0.85106383 0.         0.40425532 0.72340426 1.        ]\n",
      " [0.95744681 0.82978723 0.25531915 0.74468085 0.57446809]\n",
      " [0.23404255 0.36170213 0.23404255 0.68085106 0.46808511]\n",
      " [0.10638298 0.87234043 0.12765957 0.72340426 1.        ]]\n"
     ]
    }
   ],
   "source": [
    "norm_mat = np.random.randint(50, size=(5,5))\n",
    "norm_mat_max, norm_mat_min = norm_mat.max(), norm_mat.min()\n",
    "norm_mat = (norm_mat - norm_mat_min)/(norm_mat_max - norm_mat_min)\n",
    "print(norm_mat)"
   ]
  },
  {
   "cell_type": "markdown",
   "id": "9c000cf4",
   "metadata": {},
   "source": [
    "#### 13. How to find common values between two arrays? (★☆☆)\n",
    "`hint: np.intersect1d`"
   ]
  },
  {
   "cell_type": "code",
   "execution_count": 33,
   "id": "f98f83ef",
   "metadata": {},
   "outputs": [
    {
     "data": {
      "text/plain": [
       "array([6, 7, 8])"
      ]
     },
     "execution_count": 33,
     "metadata": {},
     "output_type": "execute_result"
    }
   ],
   "source": [
    "first_array = np.arange(6,15).reshape(3,3)\n",
    "second_array = np.arange(0,9).reshape(3,3)\n",
    "np.intersect1d(first_array, second_array)"
   ]
  },
  {
   "cell_type": "markdown",
   "id": "8749ad76",
   "metadata": {},
   "source": [
    "#### 14. Create a random vector of size 10 and sort it (★★☆)\n",
    "`hint: sort`"
   ]
  },
  {
   "cell_type": "code",
   "execution_count": 39,
   "id": "ac0a66b1",
   "metadata": {},
   "outputs": [
    {
     "name": "stdout",
     "output_type": "stream",
     "text": [
      "[0.31818719 0.21800338 0.84493853 0.30216469 0.43822067 0.09141459\n",
      " 0.30097917 0.08569481 0.34371331 0.70930102]\n"
     ]
    },
    {
     "data": {
      "text/plain": [
       "array([0.08569481, 0.09141459, 0.21800338, 0.30097917, 0.30216469,\n",
       "       0.31818719, 0.34371331, 0.43822067, 0.70930102, 0.84493853])"
      ]
     },
     "execution_count": 39,
     "metadata": {},
     "output_type": "execute_result"
    }
   ],
   "source": [
    "random_vector = np.random.random((10))\n",
    "print(random_vector)\n",
    "np.sort(random_vector)"
   ]
  },
  {
   "cell_type": "markdown",
   "id": "3f8303e4",
   "metadata": {},
   "source": [
    "#### 15. Create random vector of size 10 and replace the maximum value by 0 (★★☆)\n",
    "`hint: argmax`"
   ]
  },
  {
   "cell_type": "code",
   "execution_count": 5,
   "id": "d345750d",
   "metadata": {},
   "outputs": [
    {
     "name": "stdout",
     "output_type": "stream",
     "text": [
      "[0.54340494 0.27836939 0.42451759 0.         0.00471886 0.12156912\n",
      " 0.67074908 0.82585276 0.13670659 0.57509333]\n"
     ]
    }
   ],
   "source": [
    "np.random.seed(100)\n",
    "my_max = np.random.random((10))\n",
    "my_max[my_max.argmax()] = 0\n",
    "print(my_max)\n",
    "        \n",
    "        \n",
    "        "
   ]
  },
  {
   "cell_type": "markdown",
   "id": "ec4196f3",
   "metadata": {},
   "source": [
    "#### 16. Subtract the mean of each row of a matrix (★★☆)\n",
    "`hint: mean(axis=,keepdims=)`"
   ]
  },
  {
   "cell_type": "code",
   "execution_count": 52,
   "id": "b3bd5b3c",
   "metadata": {},
   "outputs": [
    {
     "name": "stdout",
     "output_type": "stream",
     "text": [
      "[[0.65358959 0.11500694 0.95028286 0.4821914 ]\n",
      " [0.87247454 0.21233268 0.04070962 0.39719446]\n",
      " [0.2331322  0.84174072 0.20708234 0.74246953]] \n",
      "\n"
     ]
    },
    {
     "data": {
      "text/plain": [
       "array([[ 0.10332189, -0.43526076,  0.40001517, -0.0680763 ],\n",
       "       [ 0.49179671, -0.16834514, -0.3399682 ,  0.01651664],\n",
       "       [-0.272974  ,  0.33563452, -0.29902386,  0.23636333]])"
      ]
     },
     "execution_count": 52,
     "metadata": {},
     "output_type": "execute_result"
    }
   ],
   "source": [
    "np.random.seed(1000)\n",
    "a = np.random.random((3,4))\n",
    "print(a, \"\\n\")\n",
    "b = a-a.mean(axis=1, keepdims = True)\n",
    "b"
   ]
  },
  {
   "cell_type": "markdown",
   "id": "c583a404",
   "metadata": {},
   "source": [
    "#### 17. How to get the n largest values of an array (★★★)\n",
    "`Z = np.arange(10000)\n",
    "np.random.shuffle(Z)\n",
    "n = 5\n",
    "hint: np.argsort | np.argpartition"
   ]
  },
  {
   "cell_type": "code",
   "execution_count": 9,
   "id": "6e39d82a",
   "metadata": {},
   "outputs": [
    {
     "name": "stdout",
     "output_type": "stream",
     "text": [
      "[6367 6628 7630 ...   34   32 9999]\n"
     ]
    }
   ],
   "source": [
    "Z = np.arange(10000)\n",
    "np.random.shuffle(Z) \n",
    "n = 5\n",
    "np.argsort(Z)\n",
    "ind = np.argpartition(Z, 5)[5:]\n",
    "# ind = np.argpartition(Z,5)\n",
    "print(ind)\n"
   ]
  },
  {
   "cell_type": "markdown",
   "id": "4abc453b",
   "metadata": {},
   "source": [
    "#### 18. Create a random 5*3 matrix and replace items that are larger than 4 by their squares ( Example:  6 --> 36) \n",
    "`hint: np.where`"
   ]
  },
  {
   "cell_type": "code",
   "execution_count": 68,
   "id": "4e8759dc",
   "metadata": {},
   "outputs": [
    {
     "name": "stdout",
     "output_type": "stream",
     "text": [
      "[[7 5 1]\n",
      " [2 4 8]\n",
      " [6 4 8]\n",
      " [6 2 6]\n",
      " [8 9 3]]\n"
     ]
    },
    {
     "data": {
      "text/plain": [
       "array([[49, 25,  1],\n",
       "       [ 2, 16, 64],\n",
       "       [36, 16, 64],\n",
       "       [36,  2, 36],\n",
       "       [64, 81,  3]])"
      ]
     },
     "execution_count": 68,
     "metadata": {},
     "output_type": "execute_result"
    }
   ],
   "source": [
    "np.random.seed(1111)\n",
    "#x = np.random.random(6,size=5,3) #doesnt work, no reason why\n",
    "x = np.random.randint(10, size=(5, 3))\n",
    "print(x)\n",
    "np.where(x < 4, x, x**2)"
   ]
  }
 ],
 "metadata": {
  "kernelspec": {
   "display_name": "Python 3 (ipykernel)",
   "language": "python",
   "name": "python3"
  },
  "language_info": {
   "codemirror_mode": {
    "name": "ipython",
    "version": 3
   },
   "file_extension": ".py",
   "mimetype": "text/x-python",
   "name": "python",
   "nbconvert_exporter": "python",
   "pygments_lexer": "ipython3",
   "version": "3.9.12"
  }
 },
 "nbformat": 4,
 "nbformat_minor": 5
}
