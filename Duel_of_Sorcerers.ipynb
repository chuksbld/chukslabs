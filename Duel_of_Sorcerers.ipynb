{
 "cells": [
  {
   "cell_type": "code",
   "execution_count": 1,
   "id": "56a504d3",
   "metadata": {},
   "outputs": [],
   "source": [
    "# Gandalf variable and a list of his spells casted\n",
    "gandalf = [10, 11, 13, 30, 22, 11, 10, 33, 22, 22]\n",
    "\n",
    "#convert the int list to a string list\n",
    "gandalf_spells = []\n",
    "for i in gandalf:\n",
    "    gandalf_spells.append(str(i))\n",
    "#Saruman variable and a list of his spells casted\n",
    "saruman = [23, 66, 12, 43, 12, 10, 44, 23, 12, 17]\n",
    "\n",
    "#convert the int list to a string list\n",
    "saruman_spells = []\n",
    "for i in saruman:\n",
    "    saruman_spells.append(str(i))\n",
    "#Spells, stores the number of spells casted by both sorcerers \n",
    "spells = []\n",
    "#Gandalf win variables stores the number of wins by Gandalf\n",
    "gandalf_wins = 0\n",
    "\n",
    "#Saruman win variables stores the number of wins by Saruman\n",
    "saruman_wins = 0"
   ]
  },
  {
   "cell_type": "code",
   "execution_count": 2,
   "id": "c4feaf2a",
   "metadata": {},
   "outputs": [],
   "source": [
    "#Loop inside the list of gandalf and return every spell\n",
    "#While comparing with the casted spells of saruman\n",
    "#then increment the value of gandalf wins by 1 if the if statement is true\n",
    "#and increment the value of saruman wins by 1 if the else if statement is true\n",
    "#print Tie, if no condition holds true\n",
    "for i in range(len(gandalf_spells)):\n",
    "    if gandalf_spells[i] > saruman_spells[i]:\n",
    "        gandalf_wins += 1\n",
    "        spells.append(gandalf_wins)\n",
    "    elif saruman_spells[i] > gandalf_spells[i]:\n",
    "        saruman_wins += 1\n",
    "        spells.append(saruman_wins)\n",
    "    else:\n",
    "        print(\"It is a Tie\")\n",
    "        "
   ]
  },
  {
   "cell_type": "code",
   "execution_count": 3,
   "id": "1872f644",
   "metadata": {},
   "outputs": [
    {
     "name": "stdout",
     "output_type": "stream",
     "text": [
      "6\n",
      "4\n"
     ]
    }
   ],
   "source": [
    "#Display wins by each Sorcerer\n",
    "print(gandalf_wins)\n",
    "print(saruman_wins)"
   ]
  },
  {
   "cell_type": "markdown",
   "id": "822d177a",
   "metadata": {},
   "source": [
    "### BONUS "
   ]
  },
  {
   "cell_type": "code",
   "execution_count": 4,
   "id": "7c104849",
   "metadata": {},
   "outputs": [],
   "source": [
    "# Creating a dictionary power with Spells as Keys and the points of each spells as values\n",
    "import numpy as np\n",
    "POWER = {\n",
    "    'Fireball': 50, \n",
    "    'Lightning bolt': 40, \n",
    "    'Magic arrow': 10, \n",
    "    'Black Tentacles': 25, \n",
    "    'Contagion': 45\n",
    "}\n",
    "\n",
    "#gandalf spell variable with all the spells in a stringed list form\n",
    "gandalf = ['Fireball', 'Lightning bolt', 'Lightning bolt', 'Magic arrow', 'Fireball', \n",
    "           'Magic arrow', 'Lightning bolt', 'Fireball', 'Fireball', 'Fireball']\n",
    "#saruman spell variable with all the spells in a stringed list form\n",
    "saruman = ['Contagion', 'Contagion', 'Black Tentacles', 'Fireball', 'Black Tentacles', \n",
    "           'Lightning bolt', 'Magic arrow', 'Contagion', 'Magic arrow', 'Magic arrow']\n"
   ]
  },
  {
   "cell_type": "code",
   "execution_count": 5,
   "id": "9687b65c",
   "metadata": {},
   "outputs": [],
   "source": [
    "#Variable gandalf wins stores the number of wins by gandalf \n",
    "gandalf_wins = 0\n",
    "\n",
    "#Variable saruman wins stores the number of wins by saruman \n",
    "saruman_wins = 0"
   ]
  },
  {
   "cell_type": "code",
   "execution_count": 6,
   "id": "fd4149ee",
   "metadata": {},
   "outputs": [],
   "source": [
    "gandalf_power = []\n",
    "for i in gandalf:\n",
    "    gandalf_power.append(POWER[i])\n",
    "\n",
    "saruman_power = []\n",
    "for i in saruman:\n",
    "    saruman_power.append(POWER[i])\n"
   ]
  },
  {
   "cell_type": "code",
   "execution_count": 14,
   "id": "d227b744",
   "metadata": {},
   "outputs": [
    {
     "name": "stdout",
     "output_type": "stream",
     "text": [
      "The winner is Gandalf 4\n"
     ]
    }
   ],
   "source": [
    "for clashes in range(len(gandalf_power)):\n",
    "    if gandalf_power[clashes] > saruman_power[clashes]:\n",
    "        gandalf_wins += 1\n",
    "        saruman_wins = 0\n",
    "    elif saruman_power[clashes] > gandalf_power[clashes]:\n",
    "        saruman_wins += 1\n",
    "        gandalf_wins = 0\n",
    "    else: pass\n",
    "    \n",
    "if gandalf_wins >= 3:\n",
    "    print(\"The winner is Gandalf\", gandalf_wins)\n",
    "elif saruman_wins >= 3:\n",
    "    print(\"The winner is Saruman\", saruman_wins)\n",
    "else:\n",
    "    print(\"Its a Tie\")\n",
    "\n",
    "        \n"
   ]
  },
  {
   "cell_type": "code",
   "execution_count": 8,
   "id": "46a6f90f",
   "metadata": {},
   "outputs": [],
   "source": [
    "#Average spell power of gandalf\n",
    "\n",
    "def gandalf_mean():\n",
    "    '''\n",
    "        Calculating the average mean\n",
    "        of gandalf\n",
    "    '''\n",
    "    import numpy as np\n",
    "    POWER = {\n",
    "        'Fireball': 50, \n",
    "        'Lightning bolt': 40, \n",
    "        'Magic arrow': 10, \n",
    "        'Black Tentacles': 25, \n",
    "        'Contagion': 45\n",
    "    }\n",
    "\n",
    "    gandalf = ['Fireball', 'Lightning bolt', 'Lightning bolt', 'Magic arrow', 'Fireball', \n",
    "           'Magic arrow', 'Lightning bolt', 'Fireball', 'Fireball', 'Fireball']\n",
    "\n",
    "    #calculating the average power of gandalf\n",
    "    gandalf_average = round(np.mean(gandalf_power),2)\n",
    "    return gandalf_average"
   ]
  },
  {
   "cell_type": "code",
   "execution_count": 9,
   "id": "a2f6f22f",
   "metadata": {},
   "outputs": [
    {
     "data": {
      "text/plain": [
       "39.0"
      ]
     },
     "execution_count": 9,
     "metadata": {},
     "output_type": "execute_result"
    }
   ],
   "source": [
    "gandalf_mean()"
   ]
  },
  {
   "cell_type": "code",
   "execution_count": 10,
   "id": "46fd1d2e",
   "metadata": {},
   "outputs": [],
   "source": [
    "def saruman_mean():\n",
    "    POWER = {\n",
    "        'Fireball': 50, \n",
    "        'Lightning bolt': 40, \n",
    "        'Magic arrow': 10, \n",
    "        'Black Tentacles': 25, \n",
    "        'Contagion': 45\n",
    "    }\n",
    "    saruman = ['Contagion', 'Contagion', 'Black Tentacles', 'Fireball', 'Black Tentacles', \n",
    "           'Lightning bolt', 'Magic arrow', 'Contagion', 'Magic arrow', 'Magic arrow']\n",
    "\n",
    "    #calculating the average power of saruman\n",
    "    saruman_average = round(np.mean(saruman_power), 2)\n",
    "    return saruman_average"
   ]
  },
  {
   "cell_type": "code",
   "execution_count": 11,
   "id": "522a09e9",
   "metadata": {},
   "outputs": [],
   "source": [
    "def std_dev_gandalf():\n",
    "     gandalf_std_spells = round(np.std(gandalf_power), 2)\n",
    "     return gandalf_std_spells\n",
    "    "
   ]
  },
  {
   "cell_type": "code",
   "execution_count": 12,
   "id": "7c8e50a2",
   "metadata": {},
   "outputs": [],
   "source": [
    "def std_dev_saruman():\n",
    "     saruman_std_spells = round(np.std(saruma_power), 2)\n",
    "     return saruman_std_spells"
   ]
  },
  {
   "cell_type": "code",
   "execution_count": null,
   "id": "dcb03b6b",
   "metadata": {},
   "outputs": [],
   "source": []
  }
 ],
 "metadata": {
  "kernelspec": {
   "display_name": "Python 3 (ipykernel)",
   "language": "python",
   "name": "python3"
  },
  "language_info": {
   "codemirror_mode": {
    "name": "ipython",
    "version": 3
   },
   "file_extension": ".py",
   "mimetype": "text/x-python",
   "name": "python",
   "nbconvert_exporter": "python",
   "pygments_lexer": "ipython3",
   "version": "3.9.12"
  }
 },
 "nbformat": 4,
 "nbformat_minor": 5
}
